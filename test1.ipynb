{
 "cells": [
  {
   "cell_type": "code",
   "execution_count": 1,
   "id": "463cfdcc-83c8-48c5-84a6-13461e60bfa5",
   "metadata": {},
   "outputs": [
    {
     "name": "stdout",
     "output_type": "stream",
     "text": [
      "WhatsApp Business Account Details:\n",
      "{'id': '1833630191366927', 'name': 'ZP Buldhana', 'currency': 'INR', 'timezone_id': '71', 'message_template_namespace': 'f90dea4f_2049_4b16_849d_b679d3c54cf6'}\n",
      "\n",
      "Phone Numbers linked to WABA:\n",
      "{'data': [{'verified_name': 'ZP Buldhana', 'code_verification_status': 'VERIFIED', 'display_phone_number': '+91 94235 11961', 'quality_rating': 'GREEN', 'platform_type': 'CLOUD_API', 'throughput': {'level': 'STANDARD'}, 'webhook_configuration': {'application': 'https://wup-bot-test.onrender.com/webhook'}, 'id': '866111333241517'}], 'paging': {'cursors': {'before': 'QVFIU0dXUHRLZATFsNjI1QTliQXB4eFl2OFRYdXhwd3hmbEZAKWWxmVk1XdnQ4TG1CTmpnX3M4RXlUb3BIdWhKUkdMNmwZD', 'after': 'QVFIU0dXUHRLZATFsNjI1QTliQXB4eFl2OFRYdXhwd3hmbEZAKWWxmVk1XdnQ4TG1CTmpnX3M4RXlUb3BIdWhKUkdMNmwZD'}}}\n",
      "\n",
      "Product Catalogs linked to WABA:\n",
      "{'data': []}\n",
      "\n",
      "Client WhatsApp Business Accounts under Business Manager:\n",
      "{'data': []}\n"
     ]
    }
   ],
   "source": [
    "import requests\n",
    "\n",
    "ACCESS_TOKEN = 'EAAYtyB9hTPsBPpbpkQZA8wgsnKRcQVF9asZC8ZAyv5ZCShN4jUeVb2Rqj4Er1VchHwFw0Aw4FI7XUUZBA00CXFLOlhHeozWmkNM8inxde1f9V4rJ2GYwkkHZCOTtZCEzZCj193qBgBKbVdLOeemyX6yAHISmJ1HsZBewUD4dejEBZCBpnLMr99sqiFbUFZAZAtwLmHGI7gZDZD'\n",
    "GRAPH_API_VERSION = 'v23.0'\n",
    "BASE_URL = f'https://graph.facebook.com/{GRAPH_API_VERSION}'\n",
    "\n",
    "def get_whatsapp_business_account_details(waba_id):\n",
    "    url = f'{BASE_URL}/{waba_id}'\n",
    "    params = {'access_token': ACCESS_TOKEN}\n",
    "    resp = requests.get(url, params=params)\n",
    "    return resp.json()\n",
    "\n",
    "def get_phone_numbers(waba_id):\n",
    "    url = f'{BASE_URL}/{waba_id}/phone_numbers'\n",
    "    params = {'access_token': ACCESS_TOKEN}\n",
    "    resp = requests.get(url, params=params)\n",
    "    return resp.json()\n",
    "\n",
    "def get_product_catalogs(waba_id):\n",
    "    url = f'{BASE_URL}/{waba_id}/product_catalogs'\n",
    "    params = {'access_token': ACCESS_TOKEN}\n",
    "    resp = requests.get(url, params=params)\n",
    "    return resp.json()\n",
    "\n",
    "def get_client_whatsapp_business_accounts(business_manager_id):\n",
    "    url = f'{BASE_URL}/{business_manager_id}/client_whatsapp_business_accounts'\n",
    "    params = {'access_token': ACCESS_TOKEN}\n",
    "    resp = requests.get(url, params=params)\n",
    "    return resp.json()\n",
    "\n",
    "# Set your actual IDs here\n",
    "WABA_ID = '1833630191366927'\n",
    "BUSINESS_MANAGER_ID = '1702090890455147'\n",
    "\n",
    "print(\"WhatsApp Business Account Details:\")\n",
    "print(get_whatsapp_business_account_details(WABA_ID))\n",
    "\n",
    "print(\"\\nPhone Numbers linked to WABA:\")\n",
    "print(get_phone_numbers(WABA_ID))\n",
    "\n",
    "print(\"\\nProduct Catalogs linked to WABA:\")\n",
    "print(get_product_catalogs(WABA_ID))\n",
    "\n",
    "print(\"\\nClient WhatsApp Business Accounts under Business Manager:\")\n",
    "print(get_client_whatsapp_business_accounts(BUSINESS_MANAGER_ID))\n"
   ]
  },
  {
   "cell_type": "code",
   "execution_count": null,
   "id": "9536f42c-6516-4c07-ac8a-d1545e48790f",
   "metadata": {},
   "outputs": [],
   "source": []
  }
 ],
 "metadata": {
  "kernelspec": {
   "display_name": "Python 3 (ipykernel)",
   "language": "python",
   "name": "python3"
  },
  "language_info": {
   "codemirror_mode": {
    "name": "ipython",
    "version": 3
   },
   "file_extension": ".py",
   "mimetype": "text/x-python",
   "name": "python",
   "nbconvert_exporter": "python",
   "pygments_lexer": "ipython3",
   "version": "3.11.3"
  }
 },
 "nbformat": 4,
 "nbformat_minor": 5
}
